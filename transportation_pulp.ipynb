{
 "cells": [
  {
   "cell_type": "markdown",
   "id": "a7fcdd76-eb38-4e9d-b70a-fbe924a94ef3",
   "metadata": {},
   "source": [
    "# Transportation Problem using Python Pulp\n",
    "### Problem 1\n",
    "The dairy farm has three plants (Plant 1, Plant 2, and Plant 3) with known daily milk production capacities. \n",
    "The farm needs to supply milk to four distribution centers (Distribution Center 1, 2, 3, and 4) with specific demand requirements. \n",
    "Plant Production:\n",
    "Plant 1: 6 million liters\n",
    "Plant 2: 1 million liters\n",
    "Plant 3: 10 million liters\n",
    "Distribution Center Demand:\n",
    "Distribution Center 1: 7 million liters\n",
    "Distribution Center 2: 5 million liters\n",
    "Distribution Center 3: 3 million liters\n",
    "Distribution Center 4: 2 million liters\n",
    "\n",
    "   D1 D2 D3 D4  \n",
    "P1 2 3 11 7\n",
    "P2 1 0 6 1   \n",
    "P3 5 8 15 9   \n",
    "   "
   ]
  },
  {
   "cell_type": "code",
   "execution_count": 5,
   "id": "466be25d-a700-402b-9338-ef32bfb1d939",
   "metadata": {},
   "outputs": [
    {
     "name": "stdin",
     "output_type": "stream",
     "text": [
      "Enter number of sources and destinations: 3 4\n",
      "Enter supply(with spaces): 6 1 10\n",
      "Enter demand(with spaces): 7 5 3 2\n"
     ]
    },
    {
     "name": "stdout",
     "output_type": "stream",
     "text": [
      "Enter Cost Matrix:\n"
     ]
    },
    {
     "name": "stdin",
     "output_type": "stream",
     "text": [
      " 2 3 11 7\n",
      " 1 0 6 1\n",
      " 5 8 15 9\n"
     ]
    },
    {
     "name": "stdout",
     "output_type": "stream",
     "text": [
      "Optimal\n",
      "100.0\n",
      "P1 ships 5.0 units to D2\n",
      "P1 ships 1.0 units to D3\n",
      "P2 ships 1.0 units to D3\n",
      "P3 ships 7.0 units to D1\n",
      "P3 ships 1.0 units to D3\n",
      "P3 ships 2.0 units to D4\n"
     ]
    }
   ],
   "source": [
    "m, n = map(int, input(\"Enter number of sources and destinations:\").split())\n",
    "supply = list(map(int, input(\"Enter supply(with spaces):\").split()))\n",
    "demand = list(map(int, input(\"Enter demand(with spaces):\").split()))\n",
    "\n",
    "cost = []\n",
    "print(\"Enter Cost Matrix:\")\n",
    "for i in range(m):\n",
    "    cost.append(list(map(int, input().split())))\n",
    "\n",
    "#problem solution begins\n",
    "from pulp import LpProblem, LpMinimize, LpVariable, lpSum, value, LpStatus\n",
    "#define type of problem(min or max)\n",
    "model = LpProblem(\"Transportation_Problem\", LpMinimize)\n",
    "\n",
    "#create decision variables\n",
    "x = [[0 for _ in range(n)] for _ in range(m)]\n",
    "for i in range(m):\n",
    "    for j in range(n):\n",
    "        x[i][j] = LpVariable(name=f\"x[{i}][{j}]\", lowBound = 0)\n",
    "\n",
    "#objective function\n",
    "total_cost = 0\n",
    "for i in range(m):\n",
    "    for j in range(n):\n",
    "        total_cost += cost[i][j]*x[i][j]\n",
    "model += total_cost\n",
    "\n",
    "#constraints\n",
    "#m number of suppliers so m number of supply constraints\n",
    "for i in range(m):\n",
    "    model += lpSum(x[i][j] for j in range(n)) <= supply[i], f\"Supply P{i+1}\"\n",
    "\n",
    "# n number of demand constraints\n",
    "for j in range(n):\n",
    "    model += lpSum(x[i][j] for i in range(m)) == demand[j], f\"Demand D{j+1}\"\n",
    "\n",
    "model.solve()\n",
    "\n",
    "print(LpStatus[model.status])\n",
    "print(value(model.objective))\n",
    "\n",
    "for i in range(m):\n",
    "    for j in range(n):\n",
    "        if x[i][j].value() > 0:\n",
    "            print(f\"P{i+1} ships {x[i][j].value()} units to D{j+1}\")"
   ]
  },
  {
   "cell_type": "markdown",
   "id": "7850f0d5-d289-4476-9970-dfe453b5ba73",
   "metadata": {},
   "source": [
    "### Time Complexity\n",
    "If Pulp is using revised simplex method\n",
    "- then worst case time complexity(which occurs rarely) is O(2<sup>m*n</sup>)\n",
    "- average case time complexity is O(k*m\\*n(m+n)) where k is no of iterations while running the revised simplex method\n",
    "- m = number of sources, n = number of destinations"
   ]
  }
 ],
 "metadata": {
  "kernelspec": {
   "display_name": "Optimization (venv)",
   "language": "python",
   "name": "venv"
  },
  "language_info": {
   "codemirror_mode": {
    "name": "ipython",
    "version": 3
   },
   "file_extension": ".py",
   "mimetype": "text/x-python",
   "name": "python",
   "nbconvert_exporter": "python",
   "pygments_lexer": "ipython3",
   "version": "3.10.9"
  }
 },
 "nbformat": 4,
 "nbformat_minor": 5
}
