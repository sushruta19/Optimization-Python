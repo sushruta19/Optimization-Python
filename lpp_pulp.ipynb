{
 "cells": [
  {
   "cell_type": "markdown",
   "id": "941c9e84-af50-4196-93ed-40dac1518750",
   "metadata": {},
   "source": [
    "# Linear Programming Problem(LPP) using Pulp\n",
    "A typical **LPP** consists of:\n",
    "\n",
    "- A linear **objective function** to maximize or minimize.\n",
    "- A set of **constraints** (inequalities or equalities).\n",
    "- **Non-negativity restrictions** on the decision variables.\n",
    "\n",
    "### Problem\n",
    "Maximize z = x + 2y  \n",
    "Subject to  \n",
    "2x + y <= 20   \n",
    "-4x + 5y <= 10  \n",
    "-x + 2y >= -2  \n",
    "-x + 5y = 15  \n",
    "x, y >= 0  "
   ]
  },
  {
   "cell_type": "code",
   "execution_count": 6,
   "id": "68e3e639-7b68-4b97-8bdb-33e812bb2ecc",
   "metadata": {},
   "outputs": [],
   "source": [
    "try:\n",
    "    import pulp\n",
    "except ImportError:\n",
    "    print(\"PuLP not found. Installing now, please wait...\\n\")\n",
    "    %pip install pulp"
   ]
  },
  {
   "cell_type": "code",
   "execution_count": 8,
   "id": "0e53a0b6-f332-4396-ae45-055d42783d57",
   "metadata": {},
   "outputs": [
    {
     "name": "stderr",
     "output_type": "stream",
     "text": [
      "C:\\Users\\s.sen\\Documents\\OR\\Optimization-Python\\venv\\lib\\site-packages\\pulp\\pulp.py:1455: UserWarning: Spaces are not permitted in the name. Converted to '_'\n",
      "  warnings.warn(\"Spaces are not permitted in the name. Converted to '_'\")\n"
     ]
    },
    {
     "name": "stdout",
     "output_type": "stream",
     "text": [
      "Solver Status   : Optimal\n",
      "Optimal x       : 7.73\n",
      "Optimal y       : 4.55\n",
      "Maximum Z = x+2y: 16.82\n",
      "\n",
      "--- Constraint Analysis (Shadow Prices & Slacks) ---\n",
      "_C1                            | Shadow Price:   0.64 | Slack:  -0.00\n",
      "_C2                            | Shadow Price:  -0.00 | Slack:  18.18\n",
      "_C3                            | Shadow Price:  -0.00 | Slack:  -3.36\n",
      "_C4                            | Shadow Price:   0.27 | Slack:  -0.00\n",
      "\n",
      "--- Variable Analysis (Reduced Costs) ---\n",
      "x - Reduced Cost: 0.00\n",
      "y - Reduced Cost: 0.00\n"
     ]
    }
   ],
   "source": [
    "from pulp import LpMaximize, LpProblem, LpVariable, value, LpStatus\n",
    "\n",
    "model = LpProblem(name=\"LPP Example\", sense=LpMaximize)\n",
    "\n",
    "#decision variables\n",
    "x = LpVariable(name=\"x\", lowBound=0)\n",
    "y = LpVariable(name=\"y\", lowBound=0)\n",
    "\n",
    "#definne objective func\n",
    "model += x+2*y\n",
    "\n",
    "#add constraints\n",
    "model += 2*x + y <= 20\n",
    "model += -4*x + 5*y <= 10\n",
    "model += -1*x + 2*y >= -2\n",
    "model += -1*x + 5*y == 15\n",
    "\n",
    "#solve using default solver(CBC)\n",
    "status = model.solve()\n",
    "\n",
    "# Step 6: Output the status and optimal solution\n",
    "print(f\"Solver Status   : {LpStatus[model.status]}\")\n",
    "print(f\"Optimal x       : {x.value():.2f}\")\n",
    "print(f\"Optimal y       : {y.value():.2f}\")\n",
    "print(f\"Maximum Z = x+2y: {value(model.objective):.2f}\")\n",
    "print(\"\\n--- Constraint Analysis (Shadow Prices & Slacks) ---\")\n",
    "\n",
    "# Step 7: Extract shadow prices (dual values) and slack/surplus\n",
    "for name, constraint in model.constraints.items():\n",
    "    print(f\"{name:30s} | Shadow Price: {constraint.pi:6.2f} | Slack: {constraint.slack:6.2f}\")\n",
    "\n",
    "# Step 8: Reduced costs (how much objective would worsen per unit increase from 0)\n",
    "print(\"\\n--- Variable Analysis (Reduced Costs) ---\")\n",
    "print(f\"x - Reduced Cost: {x.dj:.2f}\")\n",
    "print(f\"y - Reduced Cost: {y.dj:.2f}\")"
   ]
  },
  {
   "cell_type": "markdown",
   "id": "4942cab5-d9a4-41c1-9726-c4379a42c1e8",
   "metadata": {},
   "source": [
    "### Results\n",
    "- Status : Optimal (Optimal solution found!)\n",
    "\n",
    "| Constraint | Slack   | Shadow Price | Meaning |\n",
    "| ---------- | ------- | ------------ | -------------------------------------------------------------------------------------- |\n",
    "| C1         | `-0.00` | `+0.64`      | **Binding** — Used fully. Increasing RHS by 1 will increase Z by 0.64                 |\n",
    "| C2         | `18.18` | `-0.00`      | **Not binding** — Not tight. Has extra room, so shadow price = 0                      |\n",
    "| C3         | `-3.36` | `-0.00`      | **Violated?**  Slack is negative → possible numerical issue or sign flip           |\n",
    "| C4         | `-0.00` | `+0.27`      | **Binding** — It's an equality and is tight. Increasing RHS by 1 → Z increases by 0.27|\n",
    "\n",
    "**Reduced Cost**: If variable = 0 in the optimal solution, this tells how much the objective would worsen per unit if you forced it to be positive.\n",
    "In our case, both x and y are non-zero and active, so reduced cost is 0."
   ]
  }
 ],
 "metadata": {
  "kernelspec": {
   "display_name": "Optimization (venv)",
   "language": "python",
   "name": "venv"
  },
  "language_info": {
   "codemirror_mode": {
    "name": "ipython",
    "version": 3
   },
   "file_extension": ".py",
   "mimetype": "text/x-python",
   "name": "python",
   "nbconvert_exporter": "python",
   "pygments_lexer": "ipython3",
   "version": "3.10.9"
  }
 },
 "nbformat": 4,
 "nbformat_minor": 5
}
