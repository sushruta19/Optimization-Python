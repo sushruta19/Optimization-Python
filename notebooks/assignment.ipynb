{
 "cells": [
  {
   "cell_type": "markdown",
   "id": "a1de4575-7db0-4868-8301-ea5fb465be2b",
   "metadata": {},
   "source": [
    "# Assignment Problem"
   ]
  },
  {
   "cell_type": "markdown",
   "id": "c1b56818-71ef-4f60-834f-036992d6da70",
   "metadata": {},
   "source": [
    "## Using Hungarian Algorithm\n",
    "Also called the Reduced Matrix method or Flood's Technique\n",
    "\n",
    "### Problem 1\n",
    "Four different jobs can be done on four different machines. The matrix below gives cost in rupees of producing job i on machine j  \n",
    "  M1 M2 M3 M4  \n",
    "J1 5 7 11 6  \n",
    "J2 8 5 9 6  \n",
    "J3 4 7 10 7   \n",
    "J4 10 4 8 3  "
   ]
  },
  {
   "cell_type": "code",
   "execution_count": 2,
   "id": "3a892ec3-5d05-4da6-a6c4-678f1e818a87",
   "metadata": {},
   "outputs": [
    {
     "name": "stdin",
     "output_type": "stream",
     "text": [
      "Enter Number of Jobs(equal to number of Machines):  4\n"
     ]
    },
    {
     "name": "stdout",
     "output_type": "stream",
     "text": [
      "Enter Costs: \n"
     ]
    },
    {
     "name": "stdin",
     "output_type": "stream",
     "text": [
      " 5 7 11 6\n",
      " 8 5 9 6\n",
      " 4 7 10 7\n",
      " 10 4 8 3\n"
     ]
    },
    {
     "name": "stdout",
     "output_type": "stream",
     "text": [
      "The Optimal Assignment is:\n",
      "\n",
      "J1 -> M4\n",
      "J2 -> M2\n",
      "J3 -> M1\n",
      "J4 -> M3\n",
      "Total Cost = 23.0\n"
     ]
    }
   ],
   "source": [
    "import numpy as np\n",
    "from scipy.optimize import linear_sum_assignment\n",
    "\n",
    "n = int(input(\"Enter Number of Jobs(equal to number of Machines): \"))\n",
    "print(\"Enter Costs: \")\n",
    "cost_matrix = [list(map(int, input().split())) for _ in range(n)]\n",
    "cost_matrix = np.array(cost_matrix, dtype=float)\n",
    "original_matrix = cost_matrix.copy()\n",
    "\n",
    "#Step 1:Apply the Hungarian Algorithm\n",
    "row_ind, col_ind = linear_sum_assignment(cost_matrix)\n",
    "\n",
    "#Step 2:Compute the total cost and print the assignment\n",
    "print(\"The Optimal Assignment is:\\n\")\n",
    "total_cost = 0\n",
    "for job, machine in zip(row_ind, col_ind):\n",
    "    print(f\"J{job + 1} -> M{machine+1}\")\n",
    "    total_cost += original_matrix[job, machine]\n",
    "\n",
    "print(f\"Total Cost = {total_cost}\")"
   ]
  },
  {
   "cell_type": "markdown",
   "id": "fe713890-daef-4010-bac7-b7f530acd018",
   "metadata": {},
   "source": [
    "## Using Linear Programming"
   ]
  },
  {
   "cell_type": "markdown",
   "id": "9da546e0-b14a-41e8-8aeb-bbfe294fb036",
   "metadata": {},
   "source": [
    "The assignment problem can be thought of as a transportation problem where\n",
    "\n",
    "- number of sources == number of destinations\n",
    "- supply and demand of all suppliers and destinations are 1\n",
    "- So we can use the code which we used for transportation problem."
   ]
  },
  {
   "cell_type": "code",
   "execution_count": 3,
   "id": "2fc653f9-2f77-489e-a66b-5af30b0e439b",
   "metadata": {},
   "outputs": [
    {
     "name": "stdin",
     "output_type": "stream",
     "text": [
      "Enter Number of Jobs(equal to number of Machines):  4\n"
     ]
    },
    {
     "name": "stdout",
     "output_type": "stream",
     "text": [
      "Enter Cost Matrix:\n"
     ]
    },
    {
     "name": "stdin",
     "output_type": "stream",
     "text": [
      " 5 7 11 6\n",
      " 8 5 9 6\n",
      " 4 7 10 7\n",
      " 10 4 8 3\n"
     ]
    },
    {
     "name": "stdout",
     "output_type": "stream",
     "text": [
      "Optimal\n",
      "23.0\n",
      "J1 assigned to M1\n",
      "J2 assigned to M2\n",
      "J3 assigned to M3\n",
      "J4 assigned to M4\n"
     ]
    }
   ],
   "source": [
    "m = int(input(\"Enter Number of Jobs(equal to number of Machines): \"))\n",
    "n = m\n",
    "supply = [1 for _ in range(m)]\n",
    "demand = [1 for _ in range(n)]\n",
    "cost = []\n",
    "print(\"Enter Cost Matrix:\")\n",
    "for i in range(m):\n",
    "    cost.append(list(map(int, input().split())))\n",
    "\n",
    "#problem solution begins\n",
    "from pulp import LpProblem, LpMinimize, LpVariable, lpSum, value, LpStatus\n",
    "#define type of problem(min or max)\n",
    "model = LpProblem(\"Transportation_Problem\", LpMinimize)\n",
    "\n",
    "#create decision variables\n",
    "x = [[0 for _ in range(n)] for _ in range(m)]\n",
    "for i in range(m):\n",
    "    for j in range(n):\n",
    "        x[i][j] = LpVariable(name=f\"x[{i}][{j}]\", lowBound = 0)\n",
    "\n",
    "#objective function\n",
    "total_cost = 0\n",
    "for i in range(m):\n",
    "    for j in range(n):\n",
    "        total_cost += cost[i][j]*x[i][j]\n",
    "model += total_cost\n",
    "\n",
    "#constraints\n",
    "#m number of suppliers so m number of supply constraints\n",
    "for i in range(m):\n",
    "    model += lpSum(x[i][j] for j in range(n)) <= supply[i], f\"Supply P{i+1}\"\n",
    "\n",
    "# n number of demand constraints\n",
    "for j in range(n):\n",
    "    model += lpSum(x[i][j] for i in range(m)) == demand[j], f\"Demand D{j+1}\"\n",
    "\n",
    "model.solve()\n",
    "\n",
    "print(LpStatus[model.status])\n",
    "print(value(model.objective))\n",
    "\n",
    "for i in range(m):\n",
    "    for j in range(n):\n",
    "        if x[i][j].value() > 0:\n",
    "            print(f\"J{i+1} assigned to M{j+1}\")"
   ]
  }
 ],
 "metadata": {
  "kernelspec": {
   "display_name": "Optimization (venv)",
   "language": "python",
   "name": "venv"
  },
  "language_info": {
   "codemirror_mode": {
    "name": "ipython",
    "version": 3
   },
   "file_extension": ".py",
   "mimetype": "text/x-python",
   "name": "python",
   "nbconvert_exporter": "python",
   "pygments_lexer": "ipython3",
   "version": "3.10.9"
  }
 },
 "nbformat": 4,
 "nbformat_minor": 5
}
