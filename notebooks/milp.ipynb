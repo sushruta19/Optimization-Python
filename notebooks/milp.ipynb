{
 "cells": [
  {
   "cell_type": "markdown",
   "id": "1e4f2e94-2875-4fb7-a90c-640b2a052dcb",
   "metadata": {},
   "source": [
    "# MILP using Pulp"
   ]
  },
  {
   "cell_type": "markdown",
   "id": "e9af8390-0f48-433a-8ec5-1135498c2160",
   "metadata": {},
   "source": [
    "A factory makes 2 products: A and B.\n",
    "\n",
    "Product A needs 3 hours on Machine M1\n",
    "\n",
    "Product B needs 2 hours on Machine M1\n",
    "\n",
    "Product A gives profit ₹50\n",
    "\n",
    "Product B gives profit ₹40\n",
    "\n",
    "Machine M1 can run at most 40 hours\n",
    "\n",
    "Each product can be produced only if the machine is turned ON.\n",
    "\n",
    "Also:\n",
    "\n",
    "You must produce at least 5 units of A\n",
    "\n",
    "You may produce fractional time on M1\n",
    "\n",
    "Machine setup incurs ₹100 fixed cost if used"
   ]
  },
  {
   "cell_type": "markdown",
   "id": "09a4fda1-dc01-4056-ad7c-2f408742a166",
   "metadata": {},
   "source": [
    "### Mathematical formulation\n",
    "```\n",
    "x = no of units of A(int)\n",
    "y = no of units of B(int)\n",
    "t = time used on M1(real)\n",
    "z = whether M1 used or not(binary)\n",
    "\n",
    "Maximize Z=50x+40y−100z\n",
    "s.t.\n",
    "3x+2y <= 40z => 3x+2y-40z <= 0\n",
    "x >= 5\n",
    "z = 0 or 1\n",
    "x, y >= 0\n",
    "```"
   ]
  },
  {
   "cell_type": "code",
   "execution_count": 4,
   "id": "b58cefe1-fc3f-488d-8294-310f0c09e620",
   "metadata": {},
   "outputs": [
    {
     "name": "stdout",
     "output_type": "stream",
     "text": [
      "Status: Optimal\n",
      "Machine Turned On: Yes\n",
      "Units of A: 6.0\n",
      "Units of B: 11.0\n",
      "Machine Time used: 40.0\n",
      "Total Profit(Objective function): ₹640.0\n"
     ]
    }
   ],
   "source": [
    "from pulp import LpProblem, LpMaximize, LpStatus, value, LpVariable, LpInteger, LpBinary, LpContinuous\n",
    "\n",
    "model = LpProblem(\"MILP\", LpMaximize)\n",
    "\n",
    "x = LpVariable(\"Units_A\", lowBound=0, cat=LpInteger)\n",
    "y = LpVariable(\"Units_B\", lowBound=0, cat=LpInteger)\n",
    "t = LpVariable(\"MachineTime\", lowBound=0, cat=LpContinuous)\n",
    "z = LpVariable(\"MachineUsed\", cat=LpBinary)\n",
    "\n",
    "model += 50*x + 40*y -100*z\n",
    "\n",
    "model += 3*x + 2*y -40*z <= 0, \"Time constraint\"\n",
    "model += x >= 5, \"Min Units A\"\n",
    "\n",
    "model.solve()\n",
    "\n",
    "# Output\n",
    "print(\"Status:\", LpStatus[model.status])\n",
    "print(f\"Machine Turned On: {'Yes' if z.value() == 1 else 'No'}\")\n",
    "print(f\"Units of A: {x.value()}\")\n",
    "print(f\"Units of B: {y.value()}\")\n",
    "print(f\"Machine Time used: {3*x.value() + 2*y.value()}\")\n",
    "print(f\"Total Profit(Objective function): ₹{value(model.objective)}\")"
   ]
  }
 ],
 "metadata": {
  "kernelspec": {
   "display_name": "Python (optimization)",
   "language": "python",
   "name": "optimization"
  },
  "language_info": {
   "codemirror_mode": {
    "name": "ipython",
    "version": 3
   },
   "file_extension": ".py",
   "mimetype": "text/x-python",
   "name": "python",
   "nbconvert_exporter": "python",
   "pygments_lexer": "ipython3",
   "version": "3.10.9"
  }
 },
 "nbformat": 4,
 "nbformat_minor": 5
}
